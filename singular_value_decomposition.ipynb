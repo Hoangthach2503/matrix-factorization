{
 "cells": [
  {
   "cell_type": "code",
   "execution_count": 1,
   "metadata": {},
   "outputs": [],
   "source": [
    "import numpy as np\n",
    "import pandas as pd"
   ]
  },
  {
   "cell_type": "code",
   "execution_count": 2,
   "metadata": {},
   "outputs": [
    {
     "data": {
      "text/html": [
       "<div>\n",
       "<style scoped>\n",
       "    .dataframe tbody tr th:only-of-type {\n",
       "        vertical-align: middle;\n",
       "    }\n",
       "\n",
       "    .dataframe tbody tr th {\n",
       "        vertical-align: top;\n",
       "    }\n",
       "\n",
       "    .dataframe thead th {\n",
       "        text-align: right;\n",
       "    }\n",
       "</style>\n",
       "<table border=\"1\" class=\"dataframe\">\n",
       "  <thead>\n",
       "    <tr style=\"text-align: right;\">\n",
       "      <th></th>\n",
       "      <th>userId</th>\n",
       "      <th>movieId</th>\n",
       "      <th>rating</th>\n",
       "      <th>timestamp</th>\n",
       "    </tr>\n",
       "  </thead>\n",
       "  <tbody>\n",
       "    <tr>\n",
       "      <th>0</th>\n",
       "      <td>1</td>\n",
       "      <td>31</td>\n",
       "      <td>2.5</td>\n",
       "      <td>1260759144</td>\n",
       "    </tr>\n",
       "    <tr>\n",
       "      <th>1</th>\n",
       "      <td>1</td>\n",
       "      <td>1029</td>\n",
       "      <td>3.0</td>\n",
       "      <td>1260759179</td>\n",
       "    </tr>\n",
       "    <tr>\n",
       "      <th>2</th>\n",
       "      <td>1</td>\n",
       "      <td>1061</td>\n",
       "      <td>3.0</td>\n",
       "      <td>1260759182</td>\n",
       "    </tr>\n",
       "    <tr>\n",
       "      <th>3</th>\n",
       "      <td>1</td>\n",
       "      <td>1129</td>\n",
       "      <td>2.0</td>\n",
       "      <td>1260759185</td>\n",
       "    </tr>\n",
       "    <tr>\n",
       "      <th>4</th>\n",
       "      <td>1</td>\n",
       "      <td>1172</td>\n",
       "      <td>4.0</td>\n",
       "      <td>1260759205</td>\n",
       "    </tr>\n",
       "  </tbody>\n",
       "</table>\n",
       "</div>"
      ],
      "text/plain": [
       "   userId  movieId  rating   timestamp\n",
       "0       1       31     2.5  1260759144\n",
       "1       1     1029     3.0  1260759179\n",
       "2       1     1061     3.0  1260759182\n",
       "3       1     1129     2.0  1260759185\n",
       "4       1     1172     4.0  1260759205"
      ]
     },
     "execution_count": 2,
     "metadata": {},
     "output_type": "execute_result"
    }
   ],
   "source": [
    "data = pd.read_csv('data/ratings.csv')[:100]\n",
    "data.head()"
   ]
  },
  {
   "cell_type": "code",
   "execution_count": 51,
   "metadata": {},
   "outputs": [
    {
     "name": "stdout",
     "output_type": "stream",
     "text": [
      "      movieId                                              title  \\\n",
      "0           1                                   Toy Story (1995)   \n",
      "1           2                                     Jumanji (1995)   \n",
      "2           3                            Grumpier Old Men (1995)   \n",
      "3           4                           Waiting to Exhale (1995)   \n",
      "4           5                 Father of the Bride Part II (1995)   \n",
      "5           6                                        Heat (1995)   \n",
      "6           7                                     Sabrina (1995)   \n",
      "7           8                                Tom and Huck (1995)   \n",
      "8           9                                Sudden Death (1995)   \n",
      "9          10                                   GoldenEye (1995)   \n",
      "10         11                     American President, The (1995)   \n",
      "11         12                 Dracula: Dead and Loving It (1995)   \n",
      "12         13                                       Balto (1995)   \n",
      "13         14                                       Nixon (1995)   \n",
      "14         15                            Cutthroat Island (1995)   \n",
      "15         16                                      Casino (1995)   \n",
      "16         17                       Sense and Sensibility (1995)   \n",
      "17         18                                  Four Rooms (1995)   \n",
      "18         19              Ace Ventura: When Nature Calls (1995)   \n",
      "19         20                                 Money Train (1995)   \n",
      "20         21                                  Get Shorty (1995)   \n",
      "21         22                                     Copycat (1995)   \n",
      "22         23                                   Assassins (1995)   \n",
      "23         24                                      Powder (1995)   \n",
      "24         25                           Leaving Las Vegas (1995)   \n",
      "25         26                                     Othello (1995)   \n",
      "26         27                                Now and Then (1995)   \n",
      "27         28                                  Persuasion (1995)   \n",
      "28         29  City of Lost Children, The (Cité des enfants p...   \n",
      "29         30  Shanghai Triad (Yao a yao yao dao waipo qiao) ...   \n",
      "...       ...                                                ...   \n",
      "9095   159690  Teenage Mutant Ninja Turtles: Out of the Shado...   \n",
      "9096   159755          Popstar: Never Stop Never Stopping (2016)   \n",
      "9097   159858                             The Conjuring 2 (2016)   \n",
      "9098   159972                     Approaching the Unknown (2016)   \n",
      "9099   160080                                Ghostbusters (2016)   \n",
      "9100   160271                        Central Intelligence (2016)   \n",
      "9101   160438                                Jason Bourne (2016)   \n",
      "9102   160440                             The Maid's Room (2014)   \n",
      "9103   160563                        The Legend of Tarzan (2016)   \n",
      "9104   160565                    The Purge: Election Year (2016)   \n",
      "9105   160567              Mike & Dave Need Wedding Dates (2016)   \n",
      "9106   160590                         Survive and Advance (2013)   \n",
      "9107   160656                                    Tallulah (2016)   \n",
      "9108   160718                                       Piper (2016)   \n",
      "9109   160954                                       Nerve (2016)   \n",
      "9110   161084                       My Friend Rockefeller (2015)   \n",
      "9111   161155                                   Sunspring (2016)   \n",
      "9112   161336                  Author: The JT LeRoy Story (2016)   \n",
      "9113   161582                          Hell or High Water (2016)   \n",
      "9114   161594               Kingsglaive: Final Fantasy XV (2016)   \n",
      "9115   161830                                        Body (2015)   \n",
      "9116   161918                Sharknado 4: The 4th Awakens (2016)   \n",
      "9117   161944              The Last Brickmaker in America (2001)   \n",
      "9118   162376                                    Stranger Things   \n",
      "9119   162542                                      Rustom (2016)   \n",
      "9120   162672                                Mohenjo Daro (2016)   \n",
      "9121   163056                               Shin Godzilla (2016)   \n",
      "9122   163949  The Beatles: Eight Days a Week - The Touring Y...   \n",
      "9123   164977                           The Gay Desperado (1936)   \n",
      "9124   164979                              Women of '69, Unboxed   \n",
      "\n",
      "                                               genres  \n",
      "0         Adventure|Animation|Children|Comedy|Fantasy  \n",
      "1                          Adventure|Children|Fantasy  \n",
      "2                                      Comedy|Romance  \n",
      "3                                Comedy|Drama|Romance  \n",
      "4                                              Comedy  \n",
      "5                               Action|Crime|Thriller  \n",
      "6                                      Comedy|Romance  \n",
      "7                                  Adventure|Children  \n",
      "8                                              Action  \n",
      "9                           Action|Adventure|Thriller  \n",
      "10                               Comedy|Drama|Romance  \n",
      "11                                      Comedy|Horror  \n",
      "12                       Adventure|Animation|Children  \n",
      "13                                              Drama  \n",
      "14                           Action|Adventure|Romance  \n",
      "15                                        Crime|Drama  \n",
      "16                                      Drama|Romance  \n",
      "17                                             Comedy  \n",
      "18                                             Comedy  \n",
      "19                 Action|Comedy|Crime|Drama|Thriller  \n",
      "20                              Comedy|Crime|Thriller  \n",
      "21                Crime|Drama|Horror|Mystery|Thriller  \n",
      "22                              Action|Crime|Thriller  \n",
      "23                                       Drama|Sci-Fi  \n",
      "24                                      Drama|Romance  \n",
      "25                                              Drama  \n",
      "26                                     Children|Drama  \n",
      "27                                      Drama|Romance  \n",
      "28             Adventure|Drama|Fantasy|Mystery|Sci-Fi  \n",
      "29                                        Crime|Drama  \n",
      "...                                               ...  \n",
      "9095                          Action|Adventure|Comedy  \n",
      "9096                                           Comedy  \n",
      "9097                                           Horror  \n",
      "9098                            Drama|Sci-Fi|Thriller  \n",
      "9099                      Action|Comedy|Horror|Sci-Fi  \n",
      "9100                                    Action|Comedy  \n",
      "9101                                           Action  \n",
      "9102                                         Thriller  \n",
      "9103                                 Action|Adventure  \n",
      "9104                             Action|Horror|Sci-Fi  \n",
      "9105                                           Comedy  \n",
      "9106                               (no genres listed)  \n",
      "9107                                            Drama  \n",
      "9108                                        Animation  \n",
      "9109                                   Drama|Thriller  \n",
      "9110                                      Documentary  \n",
      "9111                                           Sci-Fi  \n",
      "9112                                      Documentary  \n",
      "9113                                      Crime|Drama  \n",
      "9114  Action|Adventure|Animation|Drama|Fantasy|Sci-Fi  \n",
      "9115                            Drama|Horror|Thriller  \n",
      "9116                   Action|Adventure|Horror|Sci-Fi  \n",
      "9117                                            Drama  \n",
      "9118                                            Drama  \n",
      "9119                                 Romance|Thriller  \n",
      "9120                          Adventure|Drama|Romance  \n",
      "9121                  Action|Adventure|Fantasy|Sci-Fi  \n",
      "9122                                      Documentary  \n",
      "9123                                           Comedy  \n",
      "9124                                      Documentary  \n",
      "\n",
      "[9125 rows x 3 columns]\n"
     ]
    }
   ],
   "source": [
    "movie_data = pd.read_csv('data/movies.csv')\n",
    "movie_data.head()"
   ]
  },
  {
   "cell_type": "code",
   "execution_count": 4,
   "metadata": {},
   "outputs": [],
   "source": [
    "# Create rating matrix of shape (m x u) with rows as movies and columns as users\n",
    "ratings_mat = np.ndarray(\n",
    "    shape=(np.max(data.movieId.values), np.max(data.userId.values)),\n",
    "    dtype=np.uint8)\n",
    "\n",
    "ratings_mat[data.movieId.values - 1, data.userId.values - 1] = data.rating.values"
   ]
  },
  {
   "cell_type": "code",
   "execution_count": 5,
   "metadata": {},
   "outputs": [
    {
     "name": "stdout",
     "output_type": "stream",
     "text": [
      "[[ 0.          0.          0.        ]\n",
      " [ 0.          0.          0.        ]\n",
      " [-3.         -3.          6.        ]\n",
      " ..., \n",
      " [-1.33333333 -1.33333333  2.66666667]\n",
      " [ 1.33333333 -0.66666667 -0.66666667]\n",
      " [ 2.         -1.         -1.        ]]\n"
     ]
    }
   ],
   "source": [
    "# Normalize matrix (subtract mean off)\n",
    "normalised_mat = ratings_mat - np.asarray([(np.mean(ratings_mat, 1))]).T\n",
    "print(normalised_mat)"
   ]
  },
  {
   "cell_type": "code",
   "execution_count": 6,
   "metadata": {},
   "outputs": [
    {
     "name": "stdout",
     "output_type": "stream",
     "text": [
      "[[ 0.35654013  0.73453782  0.57735027]\n",
      " [-0.81439847 -0.0584961   0.57735027]\n",
      " [ 0.45785835 -0.67604172  0.57735027]] [  3.02876736e+02   2.74557212e+02   9.39216305e-13] [[ -2.98538890e-15   3.43800415e-16   1.36738286e-03 ...,   6.07725715e-04\n",
      "    2.36621878e-04   3.54932818e-04]\n",
      " [ -1.06137294e-15  -5.59991992e-16  -2.22723248e-03 ...,  -9.89881101e-04\n",
      "    5.37766447e-04   8.06649670e-04]\n",
      " [  9.89264167e-01   1.39802496e-01  -6.90506663e-06 ...,   9.05634998e-04\n",
      "    1.39452279e-05   4.17808430e-06]\n",
      " ..., \n",
      " [ -1.02167246e-03   7.72501302e-04  -1.62574570e-03 ...,   9.99997186e-01\n",
      "    3.64475714e-07   5.73877716e-07]\n",
      " [ -2.02054491e-05   3.58568058e-05   5.71815199e-04 ...,   9.03861692e-07\n",
      "    9.99999663e-01  -5.14639858e-07]\n",
      " [ -1.37527632e-05   5.61594187e-05   8.74435377e-04 ...,   1.37087751e-06\n",
      "   -5.04834639e-07   9.99999228e-01]]\n"
     ]
    }
   ],
   "source": [
    "# Compute svd\n",
    "num_movies = data.shape[0] - 1\n",
    "A = normalised_mat.T / np.sqrt(num_movies)\n",
    "U, S, V = np.linalg.svd(A)\n",
    "print(U, S, V)"
   ]
  },
  {
   "cell_type": "code",
   "execution_count": 65,
   "metadata": {},
   "outputs": [],
   "source": [
    "def top_cosine_similarity(data, movie_id, top_n=10):\n",
    "    index = movie_id - 1\n",
    "    movie_row = data[index, :]\n",
    "    magnitude = np.sqrt(np.einsum('ij, ij -> i', data, data))\n",
    "    similarity = np.dot(movie_row, data.T) / (magnitude[index] * magnitude)\n",
    "    sort_indexes = np.argsort(-similarity)\n",
    "    return sort_indexes[:top_n]\n",
    "\n",
    "def print_similar_movies(movie_data, movie_id, top_indexes):\n",
    "    print('Recommendations for {0}: \\n'.format(movie_data[movie_data.movieId == movie_id].title.values[0]))\n",
    "    for id in top_indexes + 1:\n",
    "        if not movie_data[movie_data.movieId == id].empty:\n",
    "            print(movie_data[movie_data.movieId == id].title.values[0])"
   ]
  },
  {
   "cell_type": "code",
   "execution_count": 67,
   "metadata": {},
   "outputs": [
    {
     "name": "stdout",
     "output_type": "stream",
     "text": [
      "Recommendations for Jumanji (1995): \n",
      "\n",
      "Jumanji (1995)\n",
      "Toy Story (1995)\n",
      "Room at the Top (1959)\n",
      "Virus (1999)\n",
      "White Men Can't Jump (1992)\n",
      "Dumb & Dumber (Dumb and Dumber) (1994)\n",
      "French Kiss (1995)\n",
      "I Saw What You Did (1965)\n"
     ]
    },
    {
     "name": "stderr",
     "output_type": "stream",
     "text": [
      "/usr/local/lib/python3.6/site-packages/ipykernel_launcher.py:5: RuntimeWarning: invalid value encountered in true_divide\n",
      "  \"\"\"\n"
     ]
    }
   ],
   "source": [
    "k = 50\n",
    "movie_id = 2\n",
    "top_n = 10\n",
    "\n",
    "sliced = V.T[:, :k]\n",
    "indexes = top_cosine_similarity(sliced, movie_id, top_n)\n",
    "print_similar_movies(movie_data, movie_id, indexes)"
   ]
  }
 ],
 "metadata": {
  "kernelspec": {
   "display_name": "Python 3",
   "language": "python",
   "name": "python3"
  },
  "language_info": {
   "codemirror_mode": {
    "name": "ipython",
    "version": 3
   },
   "file_extension": ".py",
   "mimetype": "text/x-python",
   "name": "python",
   "nbconvert_exporter": "python",
   "pygments_lexer": "ipython3",
   "version": "3.6.3"
  }
 },
 "nbformat": 4,
 "nbformat_minor": 2
}
