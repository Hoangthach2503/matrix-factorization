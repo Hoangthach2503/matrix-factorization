{
 "cells": [
  {
   "cell_type": "code",
   "execution_count": 2,
   "metadata": {},
   "outputs": [],
   "source": [
    "from scipy.sparse.linalg import svds\n",
    "import numpy as np\n",
    "import pandas as pd"
   ]
  },
  {
   "cell_type": "code",
   "execution_count": 14,
   "metadata": {},
   "outputs": [
    {
     "name": "stdout",
     "output_type": "stream",
     "text": [
      "original: [[5 3 0 1]\n",
      " [4 0 0 1]\n",
      " [1 1 0 5]\n",
      " [1 0 0 4]\n",
      " [0 1 5 4]]\n",
      "U: \n",
      "[[-0.18540429 -0.59393667]\n",
      " [-0.30892111 -0.3747321 ]\n",
      " [-0.69499063  0.25779275]\n",
      " [-0.60844446  0.21147617]\n",
      " [ 0.13029336  0.62899588]]\n",
      "\n",
      "sigma: \n",
      "[[ 4.91892905  0.        ]\n",
      " [ 0.          6.2698682 ]]\n",
      "\n",
      "Vt: \n",
      "[[-0.20568993  0.27108679  0.63140444 -0.6968013 ]\n",
      " [-0.71493407 -0.21981658  0.42453521  0.51021544]]\n",
      "\n",
      "predicted_ratings: \n",
      "[[ 5.0999336   2.82134739  0.09323647  0.98548255]\n",
      " [ 3.24231091  1.35453072 -0.70691189  1.11007025]\n",
      " [ 1.29760663  0.46796473  0.27766226  4.95676639]\n",
      " [ 0.91765749  0.14720479 -0.07682426  4.01196198]\n",
      " [-0.45132814  1.80684524  4.57891801  4.06556489]]\n",
      "\n"
     ]
    }
   ],
   "source": [
    "# Seed to get consistent values\n",
    "np.random.seed(seed = 1)\n",
    "\n",
    "# Generate sample data\n",
    "data = np.random.randint(5, size=(5, 10))\n",
    "data = np.array([[5,3,0,1],\n",
    "     [4,0,0,1],\n",
    "     [1,1,0,5],\n",
    "     [1,0,0,4],\n",
    "     [0,1,5,4]])\n",
    "\n",
    "print('original: {}'.format(data))\n",
    "\n",
    "# Get the mean\n",
    "mean = np.mean(data, axis=1)\n",
    "\n",
    "# Demean the data (so that the mean is always zero)\n",
    "data_demeaned = data - mean.reshape(-1, 1)\n",
    "\n",
    "# Get the Singular Value Decomposition\n",
    "U, sigma, Vt = svds(data_demeaned, k = 2)\n",
    "\n",
    "sigma = np.diag(sigma)\n",
    "\n",
    "print('U: \\n{}\\n'.format(U))\n",
    "print('sigma: \\n{}\\n'.format(sigma))\n",
    "print('Vt: \\n{}\\n'.format(Vt))\n",
    "\n",
    "predicted_ratings = np.dot(np.dot(U, sigma), Vt) + mean.reshape(-1, 1)\n",
    "print('predicted_ratings: \\n{}\\n'.format(predicted_ratings))\n"
   ]
  }
 ],
 "metadata": {
  "kernelspec": {
   "display_name": "Python 3",
   "language": "python",
   "name": "python3"
  },
  "language_info": {
   "codemirror_mode": {
    "name": "ipython",
    "version": 3
   },
   "file_extension": ".py",
   "mimetype": "text/x-python",
   "name": "python",
   "nbconvert_exporter": "python",
   "pygments_lexer": "ipython3",
   "version": "3.6.3"
  }
 },
 "nbformat": 4,
 "nbformat_minor": 2
}
