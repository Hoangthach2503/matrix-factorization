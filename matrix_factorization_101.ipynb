{
 "cells": [
  {
   "cell_type": "code",
   "execution_count": 4,
   "metadata": {},
   "outputs": [],
   "source": [
    "from scipy.sparse.linalg import svds\n",
    "import numpy as np\n",
    "import pandas as pd"
   ]
  },
  {
   "cell_type": "code",
   "execution_count": 3,
   "metadata": {},
   "outputs": [
    {
     "name": "stdout",
     "output_type": "stream",
     "text": [
      "[[-0.70621679  0.59351411]\n",
      " [-0.2359851  -0.38610144]\n",
      " [ 0.04653916  0.51526217]\n",
      " [ 0.23518088  0.01432376]\n",
      " [ 0.62297106  0.48266593]] [ 4.84651198  6.37287065] [[ 0.0343143  -0.10888749 -0.13756528  0.07861657 -0.09204295  0.47381259\n",
      "   0.11951489  0.47383943 -0.68150811 -0.16009395]\n",
      " [ 0.45739406  0.3208729  -0.47577328 -0.25984358  0.03532883 -0.10999009\n",
      "  -0.32429808  0.04822166 -0.18185267  0.48994025]]\n"
     ]
    }
   ],
   "source": [
    "# Seed to get consistent values\n",
    "np.random.seed(seed = 1)\n",
    "\n",
    "# Generate sample data\n",
    "data = np.random.randint(5, size=(5, 10))\n",
    "\n",
    "# Get the mean\n",
    "mean = np.mean(data, axis=1)\n",
    "\n",
    "# Demean the data (so that the mean is always zero)\n",
    "data_demeaned = data - mean.reshape(-1, 1)\n",
    "\n",
    "# Get the Singular Value Decomposition\n",
    "U, sigma, Vt = svds(data_demeaned, k = 2)\n",
    "\n",
    "print(U, sigma, Vt)"
   ]
  },
  {
   "cell_type": "code",
   "execution_count": null,
   "metadata": {},
   "outputs": [],
   "source": []
  }
 ],
 "metadata": {
  "kernelspec": {
   "display_name": "Python 3",
   "language": "python",
   "name": "python3"
  },
  "language_info": {
   "codemirror_mode": {
    "name": "ipython",
    "version": 3
   },
   "file_extension": ".py",
   "mimetype": "text/x-python",
   "name": "python",
   "nbconvert_exporter": "python",
   "pygments_lexer": "ipython3",
   "version": "3.6.3"
  }
 },
 "nbformat": 4,
 "nbformat_minor": 2
}
